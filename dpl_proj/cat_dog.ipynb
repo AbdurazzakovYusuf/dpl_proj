{
 "cells": [
  {
   "cell_type": "markdown",
   "id": "63ad4881",
   "metadata": {},
   "source": [
    "1. Import the libraries:"
   ]
  },
  {
   "cell_type": "code",
   "execution_count": null,
   "id": "b25c33c3",
   "metadata": {},
   "outputs": [],
   "source": [
    "import numpy as np\n",
    "import pandas as pd\n",
    "from keras.preprocessing.image import ImageDataGenerator,load_img\n",
    "from keras.utils import to_categorical\n",
    "from sklearn.model_selection import train_test_split\n",
    "import matplotlib.pyplot as plt\n",
    "import random\n",
    "import os"
   ]
  },
  {
   "cell_type": "markdown",
   "id": "ac49014b",
   "metadata": {},
   "source": [
    "2. Define image properties:"
   ]
  },
  {
   "cell_type": "code",
   "execution_count": null,
   "id": "d2012b67",
   "metadata": {},
   "outputs": [],
   "source": [
    "Image_Width=128\n",
    "Image_Height=128\n",
    "Image_Size=(Image_Width,Image_Height)\n",
    "Image_Channels=3"
   ]
  },
  {
   "cell_type": "markdown",
   "id": "12afc66b",
   "metadata": {},
   "source": [
    "3. Prepare dataset for training model:"
   ]
  },
  {
   "cell_type": "code",
   "execution_count": null,
   "id": "3cd1b102",
   "metadata": {},
   "outputs": [],
   "source": [
    "data_directory = r'C:\\Users\\abdur\\Downloads\\dogs-vs-cats'\n",
    "\n",
    "filenames = os.listdir(os.path.join(data_directory, 'train'))\n",
    "categories = []\n",
    "for f_name in filenames:\n",
    "    category = f_name.split('.')[0]\n",
    "    if category == 'dog':\n",
    "        categories.append(1)\n",
    "    else:\n",
    "        categories.append(0)\n",
    "\n",
    "df = pd.DataFrame({\n",
    "    'filename': filenames,\n",
    "    'category': categories\n",
    "})"
   ]
  },
  {
   "cell_type": "markdown",
   "id": "b13684ca",
   "metadata": {},
   "source": [
    "4. Create the neural net model:"
   ]
  },
  {
   "cell_type": "code",
   "execution_count": null,
   "id": "94b09d2f",
   "metadata": {},
   "outputs": [],
   "source": [
    "from keras.models import Sequential\n",
    "from keras.layers import Conv2D, MaxPooling2D, Dropout, Flatten, Dense, Activation, BatchNormalization\n",
    "\n",
    "model = Sequential()\n",
    "\n",
    "model.add(Conv2D(32, (3, 3), activation='relu', input_shape=(Image_Width, Image_Height, Image_Channels)))\n",
    "model.add(BatchNormalization())\n",
    "model.add(MaxPooling2D(pool_size=(2, 2)))\n",
    "model.add(Dropout(0.25))\n",
    "\n",
    "model.add(Conv2D(64, (3, 3), activation='relu'))\n",
    "model.add(BatchNormalization())\n",
    "model.add(MaxPooling2D(pool_size=(2, 2)))\n",
    "model.add(Dropout(0.25))\n",
    "\n",
    "model.add(Conv2D(128, (3, 3), activation='relu'))\n",
    "model.add(BatchNormalization())\n",
    "model.add(MaxPooling2D(pool_size=(2, 2)))\n",
    "model.add(Dropout(0.25))\n",
    "\n",
    "model.add(Flatten())\n",
    "model.add(Dense(512, activation='relu'))\n",
    "model.add(BatchNormalization())\n",
    "model.add(Dropout(0.5))\n",
    "model.add(Dense(2, activation='softmax'))\n",
    "\n",
    "model.compile(loss='categorical_crossentropy',\n",
    "              optimizer='rmsprop', metrics=['accuracy'])"
   ]
  },
  {
   "cell_type": "markdown",
   "id": "99084b15",
   "metadata": {},
   "source": [
    "5. Analyzing model:"
   ]
  },
  {
   "cell_type": "code",
   "execution_count": null,
   "id": "888e5191",
   "metadata": {},
   "outputs": [],
   "source": [
    "model.summary()"
   ]
  },
  {
   "cell_type": "markdown",
   "id": "888ba686",
   "metadata": {},
   "source": [
    "6. Define callbacks and learning rate:"
   ]
  },
  {
   "cell_type": "code",
   "execution_count": null,
   "id": "a00b64fe",
   "metadata": {},
   "outputs": [],
   "source": [
    "from keras.callbacks import EarlyStopping, ReduceLROnPlateau\n",
    "\n",
    "earlystop = EarlyStopping(patience=10)\n",
    "learning_rate_reduction = ReduceLROnPlateau(\n",
    "    monitor='val_acc', patience=2, verbose=1, factor=0.5, min_lr=0.00001)\n",
    "callbacks = [earlystop, learning_rate_reduction]"
   ]
  },
  {
   "cell_type": "markdown",
   "id": "d290233f",
   "metadata": {},
   "source": [
    "7. Manage data:"
   ]
  },
  {
   "cell_type": "code",
   "execution_count": null,
   "id": "82ba1674",
   "metadata": {},
   "outputs": [],
   "source": [
    "df[\"category\"] = df[\"category\"].replace({0: 'cat', 1: 'dog'})\n",
    "train_df, validate_df = train_test_split(\n",
    "    df, test_size=0.20, random_state=42)\n",
    "\n",
    "train_df = train_df.reset_index(drop=True)\n",
    "validate_df = validate_df.reset_index(drop=True)\n",
    "\n",
    "total_train = train_df.shape[0]\n",
    "total_validate = validate_df.shape[0]\n",
    "batch_size = 15"
   ]
  },
  {
   "cell_type": "markdown",
   "id": "3abb01c5",
   "metadata": {},
   "source": [
    "8. Training and validation data generator:"
   ]
  },
  {
   "cell_type": "code",
   "execution_count": null,
   "id": "6d44d1fd",
   "metadata": {},
   "outputs": [],
   "source": [
    "train_datagen = ImageDataGenerator(rotation_range=15,\n",
    "                                   rescale=1./255,\n",
    "                                   shear_range=0.1,\n",
    "                                   zoom_range=0.2,\n",
    "                                   horizontal_flip=True,\n",
    "                                   width_shift_range=0.1,\n",
    "                                   height_shift_range=0.1)\n",
    "\n",
    "train_generator = train_datagen.flow_from_dataframe(train_df,\n",
    "                                                    os.path.join(data_directory, 'train'), x_col='filename', y_col='category',\n",
    "                                                    target_size=Image_Size,\n",
    "                                                    class_mode='categorical',\n",
    "                                                    batch_size=batch_size)\n",
    "\n",
    "validation_datagen = ImageDataGenerator(rescale=1./255)\n",
    "validation_generator = validation_datagen.flow_from_dataframe(\n",
    "    validate_df,\n",
    "    os.path.join(data_directory, 'train'),\n",
    "    x_col='filename',\n",
    "    y_col='category',\n",
    "    target_size=Image_Size,\n",
    "    class_mode='categorical',\n",
    "    batch_size=batch_size\n",
    ")\n",
    "\n",
    "test_datagen = ImageDataGenerator(rotation_range=15,\n",
    "                                  rescale=1./255,\n",
    "                                  shear_range=0.1,\n",
    "                                  zoom_range=0.2,\n",
    "                                  horizontal_flip=True,\n",
    "                                  width_shift_range=0.1,\n",
    "                                  height_shift_range=0.1)\n",
    "\n",
    "test_generator = train_datagen.flow_from_dataframe(train_df,\n",
    "                                                   os.path.join(data_directory, 'test1'), x_col='filename', y_col='category',\n",
    "                                                   target_size=Image_Size,\n",
    "                                                   class_mode='categorical',\n",
    "                                                   batch_size=batch_size)"
   ]
  },
  {
   "cell_type": "markdown",
   "id": "e5c1f18d",
   "metadata": {},
   "source": [
    "9. Model Training:\n"
   ]
  },
  {
   "cell_type": "code",
   "execution_count": null,
   "id": "e79233fb",
   "metadata": {},
   "outputs": [],
   "source": [
    "epochs = 10\n",
    "history = model.fit_generator(\n",
    "    train_generator,\n",
    "    epochs=epochs,\n",
    "    validation_data=validation_generator,\n",
    "    validation_steps=total_validate//batch_size,\n",
    "    steps_per_epoch=total_train//batch_size,\n",
    "    callbacks=callbacks\n",
    ")"
   ]
  },
  {
   "cell_type": "markdown",
   "id": "0b6c8ad3",
   "metadata": {},
   "source": [
    "10. Save the model:"
   ]
  },
  {
   "cell_type": "code",
   "execution_count": null,
   "id": "ba319219",
   "metadata": {},
   "outputs": [],
   "source": [
    "model.save(\"model1_catsVSdogs_10epoch.h5\")"
   ]
  },
  {
   "cell_type": "markdown",
   "id": "c8c899c9",
   "metadata": {},
   "source": [
    "11. Test data preparation:"
   ]
  },
  {
   "cell_type": "code",
   "execution_count": null,
   "id": "3cd4d5f3",
   "metadata": {},
   "outputs": [],
   "source": [
    "test_filenames = os.listdir(os.path.join(data_directory, 'test1'))\n",
    "test_df = pd.DataFrame({\n",
    "    'filename': test_filenames\n",
    "})\n",
    "nb_samples = test_df.shape[0]"
   ]
  },
  {
   "cell_type": "markdown",
   "id": "4505c0ae",
   "metadata": {},
   "source": [
    "12. Make categorical prediction:"
   ]
  },
  {
   "cell_type": "code",
   "execution_count": null,
   "id": "81496a16",
   "metadata": {},
   "outputs": [],
   "source": [
    "predict = model.predict_generator(\n",
    "    test_generator, steps=np.ceil(nb_samples/batch_size))"
   ]
  },
  {
   "cell_type": "markdown",
   "id": "ce0f5618",
   "metadata": {},
   "source": [
    "13. Convert labels to categories:"
   ]
  },
  {
   "cell_type": "code",
   "execution_count": null,
   "id": "7771a6ac",
   "metadata": {},
   "outputs": [],
   "source": [
    "test_df['category'] = np.argmax(predict, axis=-1)\n",
    "\n",
    "label_map = dict((v, k) for k, v in train_generator.class_indices.items())\n",
    "test_df['category'] = test_df['category'].replace(label_map)\n",
    "\n",
    "test_df['category'] = test_df['category'].replace({'dog': 1, 'cat': 0})"
   ]
  },
  {
   "cell_type": "markdown",
   "id": "b12224b5",
   "metadata": {},
   "source": [
    "14. Visualize the prediction results:"
   ]
  },
  {
   "cell_type": "code",
   "execution_count": null,
   "id": "712ffbac",
   "metadata": {},
   "outputs": [],
   "source": [
    "sample_test = test_df.head(18)\n",
    "sample_test.head()\n",
    "plt.figure(figsize=(12, 24))\n",
    "for index, row in sample_test.iterrows():\n",
    "    filename = row['filename']\n",
    "    category = row['category']\n",
    "    img = load_img(os.path.join(data_directory, 'test1', filename),\n",
    "                   target_size=Image_Size)\n",
    "    plt.subplot(6, 3, index+1)\n",
    "    plt.imshow(img)\n",
    "    plt.xlabel(filename + '(' + \"{}\".format(category) + ')' )\n",
    "plt.tight_layout()\n",
    "plt.show()\n"
   ]
  },
  {
   "cell_type": "markdown",
   "id": "8c678f61",
   "metadata": {},
   "source": [
    "15. Test our model performance on custom data:"
   ]
  },
  {
   "cell_type": "code",
   "execution_count": null,
   "id": "ef3b3a1a",
   "metadata": {},
   "outputs": [],
   "source": [
    "results = {\n",
    "    0: 'cat',\n",
    "    1: 'dog'\n",
    "}\n",
    "from PIL import Image\n",
    "import numpy as np\n",
    "im = Image.open(\"__image_path_TO_custom_image\")\n",
    "im = im.resize(Image_Size)\n",
    "im = np.expand_dims(im, axis=0)\n",
    "im = np.array(im)\n",
    "im = im/255\n",
    "pred = model.predict_classes([im])[0]\n",
    "print(pred, results[pred])"
   ]
  },
  {
   "cell_type": "markdown",
   "id": "979f1a46",
   "metadata": {},
   "source": [
    "Cats VS Dogs Classifier GUI:\n"
   ]
  },
  {
   "cell_type": "markdown",
   "id": "a0c0c9dd",
   "metadata": {},
   "source": [
    "We do not want to run predict_classes method every time we want to test our model. That’s why we need a graphical interface. Here we will build the GUI using Tkinter python.\n"
   ]
  },
  {
   "cell_type": "markdown",
   "id": "c7b1d419",
   "metadata": {},
   "source": [
    "Now we created a new directory, copy our model (“model1_catsVSdogs_10epoch.h5”) to this directory."
   ]
  },
  {
   "cell_type": "code",
   "execution_count": null,
   "id": "06e095c5",
   "metadata": {},
   "outputs": [],
   "source": [
    "import tkinter as tk\n",
    "from tkinter import filedialog\n",
    "from tkinter import *\n",
    "from PIL import ImageTk, Image\n",
    "import numpy\n",
    "\n",
    "from keras.models import load_model\n",
    "model = load_model('model1_catsVSdogs_10epoch.h5')\n",
    "#dictionary to label all traffic signs class.\n",
    "classes = { \n",
    "    0:'its a cat',\n",
    "    1:'its a dog',\n",
    " \n",
    "}\n",
    "#initialise GUI\n",
    "top=tk.Tk()\n",
    "top.geometry('800x600')\n",
    "top.title('CatsVSDogs Classification')\n",
    "top.configure(background='#CDCDCD')\n",
    "label=Label(top,background='#CDCDCD', font=('arial',15,'bold'))\n",
    "sign_image = Label(top)\n",
    "def classify(file_path):\n",
    "    global label_packed\n",
    "    image = Image.open(file_path)\n",
    "    image = image.resize((128,128))\n",
    "    image = numpy.expand_dims(image, axis=0)\n",
    "    image = numpy.array(image)\n",
    "    image = image/255\n",
    "    pred = model.predict_classes([image])[0]\n",
    "    sign = classes[pred]\n",
    "    print(sign)\n",
    "    label.configure(foreground='#011638', text=sign) \n",
    "def show_classify_button(file_path):\n",
    "    classify_b=Button(top,text=\"Classify Image\",\n",
    "   command=lambda: classify(file_path),\n",
    "   padx=10,pady=5)\n",
    "    classify_b.configure(background='#364156', foreground='white',\n",
    "font=('arial',10,'bold'))\n",
    "    classify_b.place(relx=0.79,rely=0.46)\n",
    "\n",
    "def upload_image():\n",
    "    try:\n",
    "        file_path=filedialog.askopenfilename()\n",
    "        uploaded=Image.open(file_path)\n",
    "        uploaded.thumbnail(((top.winfo_width()/2.25),\n",
    "    (top.winfo_height()/2.25)))\n",
    "        im=ImageTk.PhotoImage(uploaded)\n",
    "        sign_image.configure(image=im)\n",
    "        sign_image.image=im\n",
    "        label.configure(text='')\n",
    "        show_classify_button(file_path)\n",
    "    except:\n",
    "        pass\n",
    "upload=Button(top,text=\"Upload an image\",command=upload_image,padx=10,pady=5)\n",
    "upload.configure(background='#364156', foreground='white',font=('arial',10,'bold'))\n",
    "upload.pack(side=BOTTOM,pady=50)\n",
    "sign_image.pack(side=BOTTOM,expand=True)\n",
    "label.pack(side=BOTTOM,expand=True)\n",
    "heading = Label(top, text=\"CatsVSDogs Classification\",pady=20, font=('arial',20,'bold'))\n",
    "heading.configure(background='#CDCDCD',foreground='#364156')\n",
    "heading.pack()\n",
    "top.mainloop()"
   ]
  },
  {
   "cell_type": "markdown",
   "id": "038f7a39",
   "metadata": {},
   "source": [
    "We saved this file and run using:"
   ]
  },
  {
   "cell_type": "code",
   "execution_count": null,
   "id": "c726afdf",
   "metadata": {},
   "outputs": [],
   "source": [
    "python3 gui.py"
   ]
  }
 ],
 "metadata": {
  "kernelspec": {
   "display_name": "Python 3 (ipykernel)",
   "language": "python",
   "name": "python3"
  },
  "language_info": {
   "codemirror_mode": {
    "name": "ipython",
    "version": 3
   },
   "file_extension": ".py",
   "mimetype": "text/x-python",
   "name": "python",
   "nbconvert_exporter": "python",
   "pygments_lexer": "ipython3",
   "version": "3.11.3"
  }
 },
 "nbformat": 4,
 "nbformat_minor": 5
}
